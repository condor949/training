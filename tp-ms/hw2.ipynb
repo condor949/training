{
 "cells": [
  {
   "cell_type": "markdown",
   "metadata": {},
   "source": [
    "Задание 1.\n",
    "Вероятность того, что стрелок попадет в мишень, выстрелив один раз, равна 0.8. Стрелок выстрелил 100 раз. Найдите вероятность того, что стрелок попадет в цель ровно 85 раз."
   ]
  },
  {
   "cell_type": "markdown",
   "metadata": {},
   "source": [
    "Решение. По формуле Бернулли:\n",
    "\n",
    "$P_{100}(85) = С^{85}_{100} \\dot{} 0.8^{85} \\dot{} 0.2^{100-85}$"
   ]
  },
  {
   "cell_type": "code",
   "execution_count": 2,
   "metadata": {},
   "outputs": [],
   "source": [
    "from math import factorial\n",
    "\n",
    "def combinations(n, k):\n",
    "    return int(factorial(n) / (factorial(k) * factorial(n - k)))"
   ]
  },
  {
   "cell_type": "code",
   "execution_count": 3,
   "metadata": {},
   "outputs": [
    {
     "data": {
      "text/plain": [
       "0.048061793700746556"
      ]
     },
     "execution_count": 3,
     "metadata": {},
     "output_type": "execute_result"
    }
   ],
   "source": [
    "P = combinations(100,85) * 0.8**85 * 0.2**15\n",
    "P"
   ]
  },
  {
   "cell_type": "markdown",
   "metadata": {},
   "source": [
    "Задание 2. Вероятность того, что лампочка перегорит в течение первого дня эксплуатации, равна 0.0004. В жилом комплексе после ремонта в один день включили 5000 новых лампочек. Какова вероятность, что ни одна из них не перегорит в первый день? Какова вероятность, что перегорят ровно две?"
   ]
  },
  {
   "cell_type": "markdown",
   "metadata": {},
   "source": [
    "Решение. Перегорание лампочек события независимые. Вероятность возникновения события очень маленькая, а количество испытаний достаточно велико. Поэтому используем формулу Пуассона:"
   ]
  },
  {
   "cell_type": "code",
   "execution_count": 4,
   "metadata": {},
   "outputs": [
    {
     "name": "stdout",
     "output_type": "stream",
     "text": [
      "0.1353352832366127\n"
     ]
    },
    {
     "data": {
      "text/plain": [
       "0.2706705664732254"
      ]
     },
     "execution_count": 4,
     "metadata": {},
     "output_type": "execute_result"
    }
   ],
   "source": [
    "from scipy.stats import poisson\n",
    "\n",
    "P = poisson.pmf(0, 2)\n",
    "\n",
    "print(P)\n",
    "P = poisson.pmf(2, 2)\n",
    "\n",
    "P"
   ]
  },
  {
   "cell_type": "markdown",
   "metadata": {},
   "source": [
    "Задание 3. Монету подбросили 144 раза. Какова вероятность, что орел выпадет ровно 70 раз?"
   ]
  },
  {
   "cell_type": "markdown",
   "metadata": {},
   "source": [
    "Решение. По аналогии с первой задачей обращаемся к формуле Бернулли. Вероятность выпадения каждой из сторон монеты $\\frac{1}{2}$"
   ]
  },
  {
   "cell_type": "code",
   "execution_count": 5,
   "metadata": {},
   "outputs": [
    {
     "data": {
      "text/plain": [
       "0.06281178035144776"
      ]
     },
     "execution_count": 5,
     "metadata": {},
     "output_type": "execute_result"
    }
   ],
   "source": [
    "P = combinations(144,70) * 0.5**70 * 0.5**(144-70)\n",
    "P"
   ]
  },
  {
   "cell_type": "markdown",
   "metadata": {},
   "source": [
    "Задание 4. В первом ящике находится 10 мячей, из которых 7 - белые. Во втором ящике - 11 мячей, из которых 9 белых. Из каждого ящика вытаскивают случайным образом по два мяча. Какова вероятность того, что все мячи белые? Какова вероятность того, что ровно два мяча белые? Какова вероятность того, что хотя бы один мяч белый?"
   ]
  },
  {
   "cell_type": "markdown",
   "metadata": {},
   "source": [
    "Решение. Найдем вероятности извлечения белых мячей из первой и второй корзины. Так как в общем случае извлечение из подмножества объектов это перебор из числа удачных комбинаций, то вероятность будет расчитываться через отношение перебора из числа удачных к перебору из общего числа.\n",
    "\n",
    "$P${достали 2 белых из первого}$ = \\frac{C^{2}_{7}}{C^{2}_{10}}$\n",
    "\n",
    "$P${достали 2 белых из второго}$ = \\frac{C^{2}_{9}}{C^{2}_{11}}$\n",
    "\n",
    "Так как это два независимых события то их совместное появление будет равно произведению вероятности появления каждого события по отдельности.\n",
    "\n",
    "$P${все извлеченные шары белые}$ = P${2б из 1}$\\dot{} P${2б из 2}"
   ]
  },
  {
   "cell_type": "code",
   "execution_count": 6,
   "metadata": {},
   "outputs": [
    {
     "data": {
      "text/plain": [
       "0.31"
      ]
     },
     "execution_count": 6,
     "metadata": {},
     "output_type": "execute_result"
    }
   ],
   "source": [
    "P = round((combinations(7,2)/combinations(10,2) * combinations(9,2)/combinations(11,2)),2)\n",
    "P"
   ]
  },
  {
   "cell_type": "markdown",
   "metadata": {},
   "source": [
    "Если только два из четырех мячей белые, то мы можем перебрать возможные комбинации: два белых из 1-го ящика и два не белых из 2-го, из каждой пары извлеченной по одному белому, два белых из 2-го ящика и два не белых из первого.\n",
    "Комбинации это несовместные события, поэтому результирующая вероятность будет суммой вероятностей всех трех комбинаций, по скольку нас устраивает любой из перечисленных вариантов.\n",
    "\n",
    "$P${2 из 4-х белые}$ = P${2б из 1}$\\dot{} P${0б из 2} + $P${1б из 1}$\\dot{} P${1б из 2} + $P${0б из 1}$\\dot{} P${2б из 2}"
   ]
  },
  {
   "cell_type": "code",
   "execution_count": 7,
   "metadata": {},
   "outputs": [
    {
     "data": {
      "text/plain": [
       "0.6248484848484849"
      ]
     },
     "execution_count": 7,
     "metadata": {},
     "output_type": "execute_result"
    }
   ],
   "source": [
    "P = (combinations(7,2)/combinations(10,2) * combinations(2,2)/combinations(11,2)) +\\\n",
    "    (combinations(7,1)/combinations(10,1) * combinations(9,1)/combinations(11,1)) +\\\n",
    "    (combinations(3,2)/combinations(10,2) * combinations(9,2)/combinations(11,2))\n",
    "P"
   ]
  },
  {
   "cell_type": "markdown",
   "metadata": {},
   "source": [
    "COMMENT!!!\n",
    "\n",
    "Вот тут я не понял, я могу сказать что я извлек 0 белых шаров, а могу сказать что я извлек 2 не белых. Если я говорю про 0 белых, тогда ситуация будет такой."
   ]
  },
  {
   "cell_type": "code",
   "execution_count": 8,
   "metadata": {},
   "outputs": [
    {
     "data": {
      "text/plain": [
       "1.693939393939394"
      ]
     },
     "execution_count": 8,
     "metadata": {},
     "output_type": "execute_result"
    }
   ],
   "source": [
    "P = (combinations(7,2)/combinations(10,2) * combinations(9,0)/combinations(11,0)) +\\\n",
    "    (combinations(7,1)/combinations(10,1) * combinations(9,1)/combinations(11,1)) +\\\n",
    "    (combinations(7,0)/combinations(10,0) * combinations(9,2)/combinations(11,2))\n",
    "P"
   ]
  },
  {
   "cell_type": "markdown",
   "metadata": {},
   "source": [
    "Когда нужно рассчитать вероятность появления хотя бы одного белого мяча, то можно пойти от обратной вероятности:\n",
    "    \n",
    "$P = 1 - P${ни одного белого мяча}"
   ]
  },
  {
   "cell_type": "code",
   "execution_count": 38,
   "metadata": {},
   "outputs": [
    {
     "data": {
      "text/plain": [
       "0.9987878787878788"
      ]
     },
     "execution_count": 38,
     "metadata": {},
     "output_type": "execute_result"
    }
   ],
   "source": [
    "P = 1 - (combinations(3,2)/combinations(10,2) * combinations(2,2)/combinations(11,2))\n",
    "P"
   ]
  },
  {
   "cell_type": "code",
   "execution_count": null,
   "metadata": {},
   "outputs": [],
   "source": []
  }
 ],
 "metadata": {
  "kernelspec": {
   "display_name": "Python 3",
   "language": "python",
   "name": "python3"
  },
  "language_info": {
   "codemirror_mode": {
    "name": "ipython",
    "version": 3
   },
   "file_extension": ".py",
   "mimetype": "text/x-python",
   "name": "python",
   "nbconvert_exporter": "python",
   "pygments_lexer": "ipython3",
   "version": "3.8.5"
  }
 },
 "nbformat": 4,
 "nbformat_minor": 4
}
