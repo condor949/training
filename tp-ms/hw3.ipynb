{
 "cells": [
  {
   "cell_type": "markdown",
   "metadata": {},
   "source": [
    "**Задание 1.**\n",
    "\n",
    "Даны значения зарплат из выборки выпускников: 100, 80, 75, 77, 89, 33, 45, 25, 65, 17, 30, 24, 57, 55, 70, 75, 65, 84, 90, 150. Посчитать (желательно без использования статистических методов наподобие std, var, mean) среднее арифметическое, среднее квадратичное отклонение, смещенную и несмещенную оценки дисперсий для данной выборки."
   ]
  },
  {
   "cell_type": "code",
   "execution_count": 2,
   "metadata": {},
   "outputs": [
    {
     "name": "stdout",
     "output_type": "stream",
     "text": [
      "average = 65.3\n",
      "dispersion = 926.7\n",
      "standart deviation = 30.44\n",
      "unbiased variance estimate = 975.47\n"
     ]
    }
   ],
   "source": [
    "from math import factorial, sqrt\n",
    "\n",
    "def combinations(n, k):\n",
    "    return int(factorial(n) / (factorial(k) * factorial(n - k)))\n",
    "\n",
    "#sample\n",
    "X = [100, 80, 75, 77, 89, 33, 45, 25, 65, 17, 30, 24, 57, 55, 70, 75, 65, 84, 90, 150]\n",
    "\n",
    "#average\n",
    "x = sum(X)/len(X)\n",
    "print(f\"\"\"average = {x}\"\"\")\n",
    "\n",
    "def deviation(element, average):\n",
    "    return int(element - average)\n",
    "\n",
    "#dispersion or biased variance estimate\n",
    "D = sum(deviation(i,x)**2 for i in X)/len(X)\n",
    "print(f\"\"\"dispersion = {D}\"\"\")\n",
    "\n",
    "#standard deviation\n",
    "sigma = sqrt(D)\n",
    "print(f\"\"\"standart deviation = {round(sigma,2)}\"\"\")\n",
    "\n",
    "#unbiased variance estimate\n",
    "D_unbiased = D * len(X)/(len(X)-1)\n",
    "print(f\"\"\"unbiased variance estimate = {round(D_unbiased,2)}\"\"\")"
   ]
  },
  {
   "cell_type": "markdown",
   "metadata": {},
   "source": [
    "**Задание 2.**\n",
    "\n",
    "В первом ящике находится 8 мячей, из которых 5 - белые. Во втором ящике - 12 мячей, из которых 5 белых. Из первого ящика вытаскивают случайным образом два мяча, из второго - 4. Какова вероятность того, что 3 мяча белые?"
   ]
  },
  {
   "cell_type": "markdown",
   "metadata": {},
   "source": [
    "$P${3 из 6-и белые}$ = P${2б из 2}$\\dot{} P${1б из 4} + $P${1б из 2}$\\dot{} P${2б из 4} + $P${0б из 2}$\\dot{} P${3б из 4}"
   ]
  },
  {
   "cell_type": "code",
   "execution_count": 3,
   "metadata": {},
   "outputs": [],
   "source": [
    "def combinations(n, k):\n",
    "    return int(factorial(n) / (factorial(k) * factorial(n - k)))\n",
    "\n",
    "P = (combinations(7,2)/combinations(10,2) * combinations(2,2)/combinations(11,2)) +\\\n",
    "    (combinations(7,1)/combinations(10,1) * combinations(9,1)/combinations(11,1)) +\\\n",
    "    (combinations(3,2)/combinations(10,2) * combinations(9,2)/combinations(11,2))"
   ]
  },
  {
   "cell_type": "markdown",
   "metadata": {},
   "source": [
    "**Задание 3.**\n",
    "\n",
    "В университет на факультеты A и B поступило равное количество студентов, а на факультет C студентов поступило столько же, сколько на A и B вместе. Вероятность того, что студент факультета A сдаст первую сессию, равна 0.8. Для студента факультета B эта вероятность равна 0.7, а для студента факультета C - 0.9. Студент сдал первую сессию. Какова вероятность, что он учится: a). на факультете A б). на факультете B в). на факультете C?"
   ]
  },
  {
   "cell_type": "markdown",
   "metadata": {},
   "source": [
    "Рассмотрим общее количество благоприятных исходов.\n",
    "$P = \\frac{1}{4}*0,7 + \\frac{1}{4}*0,8 + \\frac{1}{2}*0,9$\n",
    "\n",
    "тогда вероятности для каждого факультета будут расчитываться как:"
   ]
  },
  {
   "cell_type": "code",
   "execution_count": 5,
   "metadata": {},
   "outputs": [
    {
     "name": "stdout",
     "output_type": "stream",
     "text": [
      "P_a=0.24\n",
      " P_b=0.21\n",
      " P_c=0.55\n"
     ]
    }
   ],
   "source": [
    "P = 0.25*0.7 + 0.25*0.8 + 0.5*0.9\n",
    "P_b = (0.25*0.7)/P\n",
    "P_a = (0.25*0.8)/P\n",
    "P_c = (0.5*0.9)/P\n",
    "print('P_a={}\\n'.format(round(P_a,2)),'P_b={}\\n'.format(round(P_b,2)),'P_c={}'.format(round(P_c,2)))"
   ]
  },
  {
   "cell_type": "markdown",
   "metadata": {},
   "source": [
    "**Задание 4.**\n",
    "\n",
    "Устройство состоит из трех деталей. Для первой детали вероятность выйти из строя в первый месяц равна 0.1, для второй - 0.2, для третьей - 0.25. Какова вероятность того, что в первый месяц выйдут из строя: а). все детали б). только две детали в). хотя бы одна деталь г). от одной до двух деталей?"
   ]
  },
  {
   "cell_type": "markdown",
   "metadata": {},
   "source": [
    "Событие а) произойдет если:"
   ]
  },
  {
   "cell_type": "code",
   "execution_count": 7,
   "metadata": {},
   "outputs": [],
   "source": [
    "P_a = 0.1*0.2*0.25"
   ]
  },
  {
   "cell_type": "markdown",
   "metadata": {},
   "source": [
    "Событие б) если \n",
    "* 1-я деталь не выйдет из строя, а 2-я и 3-я выйдут,\n",
    "* если 2-я не выйдет из строя, а 1-я и 3-я выйдут,\n",
    "* если 3-я не выйдет из строя, а 1-я и 2-я выйдут, \n",
    "\n",
    "т.е.:"
   ]
  },
  {
   "cell_type": "code",
   "execution_count": 10,
   "metadata": {},
   "outputs": [],
   "source": [
    "P_b = 0.9*0.2*0.25 + 0.8*0.1*0.25 + 0.75*0.1*0.2"
   ]
  },
  {
   "cell_type": "markdown",
   "metadata": {},
   "source": [
    "Событие в) если \n",
    "* 1-я деталь выйдет из строя а 2 и 3 нет,\n",
    "* 2-я деталь выйдет из строя а 1 и 3 нет,\n",
    "* 3-я деталь выйдет из строя а 2 и 1 нет,\n",
    "* 1 и 2 выйдут из строя а 3 нет\n",
    "* 1 и 3 выйдут из строя а 2 нет\n",
    "* 2 и 3 выйдут из строя а 1 нет\n",
    "* все выйдут из строя\n",
    "\n",
    "т.е.:"
   ]
  },
  {
   "cell_type": "code",
   "execution_count": 16,
   "metadata": {},
   "outputs": [],
   "source": [
    "P_c = P_a + P_b + 0.1*0.8*0.75 +0.2*0.9*0.75 + 0.25*0.9*0.8"
   ]
  },
  {
   "cell_type": "markdown",
   "metadata": {},
   "source": [
    "Событие г) по аналогии с предыдущим, не учитывая вероятность выхода из строя всех деталей"
   ]
  },
  {
   "cell_type": "code",
   "execution_count": 15,
   "metadata": {},
   "outputs": [],
   "source": [
    "P_d = P_b + 0.1*0.8*0.75 +0.2*0.9*0.75 + 0.25*0.9*0.8"
   ]
  },
  {
   "cell_type": "code",
   "execution_count": 20,
   "metadata": {},
   "outputs": [
    {
     "name": "stdout",
     "output_type": "stream",
     "text": [
      "a) 0.005\n",
      " б) 0.08\n",
      " в) 0.46\n",
      " г) 0.455\n"
     ]
    }
   ],
   "source": [
    "print('a) {}\\n'.format(round(P_a,3)),'б) {}\\n'.format(round(P_b,3)), 'в) {}\\n'.format(round(P_c,3)), 'г) {}'.format(round(P_d,3)))"
   ]
  },
  {
   "cell_type": "code",
   "execution_count": null,
   "metadata": {},
   "outputs": [],
   "source": []
  }
 ],
 "metadata": {
  "kernelspec": {
   "display_name": "Python 3",
   "language": "python",
   "name": "python3"
  },
  "language_info": {
   "codemirror_mode": {
    "name": "ipython",
    "version": 3
   },
   "file_extension": ".py",
   "mimetype": "text/x-python",
   "name": "python",
   "nbconvert_exporter": "python",
   "pygments_lexer": "ipython3",
   "version": "3.8.5"
  }
 },
 "nbformat": 4,
 "nbformat_minor": 4
}
