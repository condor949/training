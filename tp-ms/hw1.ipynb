{
 "cells": [
  {
   "cell_type": "markdown",
   "id": "fresh-singapore",
   "metadata": {},
   "source": [
    "**Задание 1.**\n",
    "Из колоды в 52 карты извлекаются случайным образом 4 карты.\n",
    "1) Найти вероятность того, что все карты – крести. \n",
    "\n",
    "2) Найти вероятность, что среди 4-х карт окажется хотя бы один туз."
   ]
  },
  {
   "cell_type": "markdown",
   "id": "excess-cooler",
   "metadata": {},
   "source": [
    "**Решение**\n",
    "\n",
    "A = {все карты крести}\n",
    "\n",
    "Карты одной масти 2 3 4 5 6 7 8 9 10 J Q K A - 13шт, т.е. это число благоприятных исходов.\n",
    "$P_A$ будет вычисляться как отношение числа сочетаний из 13 карт по 4-е карты, к числу сочетаний из всей колоды 52 карты на те же 4 карты, иначе говоря отношение числа благоприятных к общему числу исходов.\n",
    "\n",
    "$P_A = \\frac{C^4_{13}}{C^4_{52}}$"
   ]
  },
  {
   "cell_type": "code",
   "execution_count": 17,
   "id": "photographic-terrorism",
   "metadata": {},
   "outputs": [],
   "source": [
    "from math import factorial\n",
    "\n",
    "def combinations(n, k):\n",
    "    return int(factorial(n) / (factorial(k) * factorial(n - k)))"
   ]
  },
  {
   "cell_type": "code",
   "execution_count": 20,
   "id": "recreational-capital",
   "metadata": {},
   "outputs": [
    {
     "data": {
      "text/plain": [
       "'0.26%'"
      ]
     },
     "execution_count": 20,
     "metadata": {},
     "output_type": "execute_result"
    }
   ],
   "source": [
    "def p_a(total, satisfying, sample):\n",
    "    return str(round(float(combinations(satisfying,sample)/combinations(total,sample)) * 100, 2)) + '%'\n",
    "\n",
    "p_a(52,13,4)"
   ]
  },
  {
   "cell_type": "markdown",
   "id": "quarterly-wichita",
   "metadata": {},
   "source": [
    "B = {хотя бы один туз}\n",
    "\n",
    "Тузов в колоде 4 штуки.\n",
    "$P_B$ будет вычисляться как отношение числа сочетаний из 13 карт по 4-е карты, к числу сочетаний из всей колоды 52 карты на те же 4 карты.\n",
    "\n",
    "$P_A = \\frac{C^4_{13}}{C^4_{52}}$"
   ]
  },
  {
   "cell_type": "markdown",
   "id": "banned-corpus",
   "metadata": {},
   "source": [
    "**Задание 2.** На входной двери подъезда установлен кодовый замок, содержащий десять кнопок с цифрами от 0 до 9. Код содержит три цифры, которые нужно нажать одновременно. Какова вероятность того, что человек, не знающий код, откроет дверь с первой попытки?"
   ]
  },
  {
   "cell_type": "markdown",
   "id": "stable-board",
   "metadata": {},
   "source": [
    "**Решение**\n",
    "\n",
    "Определим сколькими способами можно выбрать три цифры из общего числа. И найдем вероятность того что наш выбор будет верным с одной попытки.\n",
    "\n",
    "$P = \\frac{1}{C^3_{10}}$"
   ]
  },
  {
   "cell_type": "code",
   "execution_count": 19,
   "id": "opposite-people",
   "metadata": {},
   "outputs": [
    {
     "data": {
      "text/plain": [
       "'0.83%'"
      ]
     },
     "execution_count": 19,
     "metadata": {},
     "output_type": "execute_result"
    }
   ],
   "source": [
    "p = 1/combinations(10,3)\n",
    "str(round(p*100,2))+'%'"
   ]
  },
  {
   "cell_type": "markdown",
   "id": "demanding-broad",
   "metadata": {},
   "source": [
    "**Задание 3.** В ящике имеется 15 деталей, из которых 9 окрашены. Рабочий случайным образом извлекает 3 детали. Какова вероятность того, что все извлеченные детали окрашены?"
   ]
  },
  {
   "cell_type": "markdown",
   "id": "floppy-literature",
   "metadata": {},
   "source": [
    "**Решение**\n",
    "\n",
    "А = {извлечены три окрашенных детали}\n",
    "\n",
    "По аналогии с первой задачей есть число благоприятных исходов которые находим как сочетания из 9 по 3 и общее число исходов, как сочетание из 15 по 3.\n",
    "\n",
    "$P_A = \\frac{C^3_{9}}{C^3_{15}}$"
   ]
  },
  {
   "cell_type": "code",
   "execution_count": 21,
   "id": "measured-arizona",
   "metadata": {},
   "outputs": [
    {
     "data": {
      "text/plain": [
       "'18.46%'"
      ]
     },
     "execution_count": 21,
     "metadata": {},
     "output_type": "execute_result"
    }
   ],
   "source": [
    "p_a(15,9,3)"
   ]
  },
  {
   "cell_type": "markdown",
   "id": "plastic-warehouse",
   "metadata": {},
   "source": [
    "**Задание 4.** В лотерее 100 билетов. Из них 2 выигрышных. Какова вероятность того, что 2 приобретенных билета окажутся выигрышными?"
   ]
  },
  {
   "cell_type": "markdown",
   "id": "nonprofit-contrast",
   "metadata": {},
   "source": [
    "**Решение**\n",
    "\n",
    "А = {2 приобретенных билета выигрышные}\n",
    "\n",
    "$P_A = \\frac{C^2_2}{C^2_{100}}$"
   ]
  },
  {
   "cell_type": "code",
   "execution_count": 24,
   "id": "swedish-spectacular",
   "metadata": {},
   "outputs": [
    {
     "data": {
      "text/plain": [
       "'0.02%'"
      ]
     },
     "execution_count": 24,
     "metadata": {},
     "output_type": "execute_result"
    }
   ],
   "source": [
    "p_a(100,2,2)"
   ]
  },
  {
   "cell_type": "code",
   "execution_count": null,
   "id": "peripheral-probe",
   "metadata": {},
   "outputs": [],
   "source": []
  }
 ],
 "metadata": {
  "kernelspec": {
   "display_name": "Python 3",
   "language": "python",
   "name": "python3"
  },
  "language_info": {
   "codemirror_mode": {
    "name": "ipython",
    "version": 3
   },
   "file_extension": ".py",
   "mimetype": "text/x-python",
   "name": "python",
   "nbconvert_exporter": "python",
   "pygments_lexer": "ipython3",
   "version": "3.8.5"
  }
 },
 "nbformat": 4,
 "nbformat_minor": 5
}
