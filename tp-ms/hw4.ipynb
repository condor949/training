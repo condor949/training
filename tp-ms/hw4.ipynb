{
 "cells": [
  {
   "cell_type": "markdown",
   "metadata": {},
   "source": [
    "**Задание 1.**\n",
    "\n",
    "Случайная непрерывная величина A имеет равномерное распределение на промежутке (200, 800].\n",
    "Найдите ее среднее значение и дисперсию."
   ]
  },
  {
   "cell_type": "markdown",
   "metadata": {},
   "source": [
    "так как распределение равномерное, значит:\n",
    "$f(x) = \n",
    "\\begin{cases}\n",
    "0, & x \\leq{a} \\\\\n",
    "\\frac{1}{b-a}, & a < x \\geq{b} \\\\\n",
    "0, & x > b \\\\\n",
    "\\end{cases}$"
   ]
  },
  {
   "cell_type": "code",
   "execution_count": 4,
   "metadata": {},
   "outputs": [
    {
     "name": "stdout",
     "output_type": "stream",
     "text": [
      "M[x] = 500.0\n",
      " D[x] = 30000.0\n",
      "\n"
     ]
    }
   ],
   "source": [
    "import numpy as np\n",
    "from math import sqrt\n",
    "from scipy.stats import norm\n",
    "\n",
    "\n",
    "M = (800+200)/2\n",
    "D = (800-200)**2/12\n",
    "print('M[x] = {}\\n'.format(M), 'D[x] = {}\\n'.format(D))"
   ]
  },
  {
   "cell_type": "markdown",
   "metadata": {},
   "source": [
    "**Задание 2.**\n",
    "\n",
    "О случайной непрерывной равномерно распределенной величине B известно, что ее дисперсия равна 0.2.\n",
    "Можно ли найти правую границу величины B и ее среднее значение зная, что левая граница равна 0.5?\n",
    "Если да, найдите ее."
   ]
  },
  {
   "cell_type": "code",
   "execution_count": 6,
   "metadata": {},
   "outputs": [
    {
     "name": "stdout",
     "output_type": "stream",
     "text": [
      "x2 = 2.05\n"
     ]
    }
   ],
   "source": [
    "x2 = sqrt(12*0.2)+0.5\n",
    "print('x2 = {}'.format(round(x2,2)))"
   ]
  },
  {
   "cell_type": "markdown",
   "metadata": {},
   "source": [
    "**Задание 3.**\n",
    "\n",
    "Непрерывная случайная величина X распределена нормально и задана плотностью распределения\n",
    "$f(x) = \\frac{1}{4 * \\sqrt{2\\pi}} * e^{\\frac{-(x+2)^2}{32}}$\n",
    "\n",
    "Найдите:\n",
    "* M(X)\n",
    "* D(X)\n",
    "* std(X) (среднее квадратичное отклонение)"
   ]
  },
  {
   "cell_type": "code",
   "execution_count": null,
   "metadata": {},
   "outputs": [],
   "source": [
    "M = -2\n",
    "D = 16\n",
    "std = 4"
   ]
  },
  {
   "cell_type": "markdown",
   "metadata": {},
   "source": [
    "**Задание 4.**\n",
    "\n",
    "Рост взрослого населения города X имеет нормальное распределение.\n",
    "Причем, средний рост равен 174 см, а среднее квадратичное отклонение равно 8 см.\n",
    "Какова вероятность того, что случайным образом выбранный взрослый человек имеет рост:\n",
    "\n",
    "* а) больше 182 см\n",
    "* б) больше 190 см\n",
    "* в) от 166 см до 190 см\n",
    "* г) от 166 см до 182 см\n",
    "* д) от 158 см до 190 см\n",
    "* е) не выше 150 см или не ниже 190 см\n",
    "* ё) не выше 150 см или не ниже 198 см\n",
    "* ж) ниже 166 см"
   ]
  },
  {
   "cell_type": "code",
   "execution_count": 9,
   "metadata": {},
   "outputs": [
    {
     "name": "stdout",
     "output_type": "stream",
     "text": [
      "а) 0.15865525393145707\n",
      " б) 0.02275013194817921\n",
      " в) 0.8185946141203637\n",
      " г) 0.6826894921370859\n",
      " д) 0.9544997361036416\n",
      " е) 0.0241000299798092\n",
      " ё) 0.002699796063260096\n",
      " ж) 0.15865525393145707\n"
     ]
    }
   ],
   "source": [
    "mean = 174\n",
    "std = 8\n",
    "Pa=1-norm.cdf(182, mean, std)\n",
    "Pb=1-norm.cdf(190, mean, std)\n",
    "Pc=norm.cdf(190, mean, std)-norm.cdf(166, mean, std)\n",
    "Pd=norm.cdf(182, mean, std)-norm.cdf(166, mean, std)\n",
    "Pe=norm.cdf(190, mean, std)-norm.cdf(158, mean, std)\n",
    "Pf=norm.cdf(150, mean, std)+1-norm.cdf(190, mean, std)\n",
    "Pg=norm.cdf(150, mean, std)+1-norm.cdf(198, mean, std)\n",
    "Ph=norm.cdf(166, mean, std)\n",
    "print('а) {}\\n'.format(Pa),\n",
    "     'б) {}\\n'.format(Pb),\n",
    "     'в) {}\\n'.format(Pc),\n",
    "     'г) {}\\n'.format(Pd),\n",
    "     'д) {}\\n'.format(Pe),\n",
    "     'е) {}\\n'.format(Pf),\n",
    "     'ё) {}\\n'.format(Pg),\n",
    "     'ж) {}'.format(Ph))"
   ]
  },
  {
   "cell_type": "markdown",
   "metadata": {},
   "source": [
    "**Задача 5.**\n",
    "\n",
    "На сколько сигм (средних квадратичных отклонений) отклоняется рост человека, равный 190 см, от\n",
    "математического ожидания роста в популяции, в которой M(X) = 178 см и D(X) = 25 кв.см?"
   ]
  },
  {
   "cell_type": "code",
   "execution_count": 12,
   "metadata": {},
   "outputs": [
    {
     "data": {
      "text/plain": [
       "2.4"
      ]
     },
     "execution_count": 12,
     "metadata": {},
     "output_type": "execute_result"
    }
   ],
   "source": [
    "std=(190-178)/math.sqrt(25)\n",
    "std"
   ]
  },
  {
   "cell_type": "code",
   "execution_count": null,
   "metadata": {},
   "outputs": [],
   "source": []
  }
 ],
 "metadata": {
  "kernelspec": {
   "display_name": "Python 3",
   "language": "python",
   "name": "python3"
  },
  "language_info": {
   "codemirror_mode": {
    "name": "ipython",
    "version": 3
   },
   "file_extension": ".py",
   "mimetype": "text/x-python",
   "name": "python",
   "nbconvert_exporter": "python",
   "pygments_lexer": "ipython3",
   "version": "3.8.5"
  }
 },
 "nbformat": 4,
 "nbformat_minor": 4
}
