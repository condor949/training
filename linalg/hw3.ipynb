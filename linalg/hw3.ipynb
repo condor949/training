{
 "cells": [
  {
   "cell_type": "markdown",
   "metadata": {},
   "source": [
    "**Задание 1**. Найти собственные векторы и собственные значения для линейного оператора, заданного матрицей\n",
    "$A=\\begin{pmatrix}\n",
    "-1 & -6\\\\ \n",
    "2 & 6\n",
    "\\end{pmatrix}.$"
   ]
  },
  {
   "cell_type": "code",
   "execution_count": 1,
   "metadata": {},
   "outputs": [
    {
     "name": "stdout",
     "output_type": "stream",
     "text": [
      "Собственные числа: [2. 3.]\n",
      "Собственные вектора: \n",
      "[[-0.89442719  0.83205029]\n",
      " [ 0.4472136  -0.5547002 ]]\n"
     ]
    }
   ],
   "source": [
    "import numpy as np\n",
    "\n",
    "a = np.array([[-1, -6], [2, 6]])\n",
    "w, v = np.linalg.eig(a)\n",
    "print(f'Собственные числа: {w}')\n",
    "print(f'Собственные вектора: \\n{v}')"
   ]
  },
  {
   "cell_type": "markdown",
   "metadata": {},
   "source": [
    "**Задание 2**. Дан оператор поворота на 180 градусов, задаваемый матрицей\n",
    "$A=\\begin{pmatrix}\n",
    "-1 & 0\\\\ \n",
    "0 & -1\n",
    "\\end{pmatrix}.$\n",
    "\n",
    "Показать, что любой вектор является для него собственным."
   ]
  },
  {
   "cell_type": "markdown",
   "metadata": {},
   "source": [
    "**Решение**. \n",
    "\n",
    "Распишем базисные векторы \n",
    "\n",
    "$Ae_{1}=-1\\cdot e_{1}+0\\cdot e_{2}=-e_{1}$\n",
    "\n",
    "$Ae_{2}=0\\cdot e_{1}-1\\cdot e_{2}=-e_{2}$\n",
    "\n",
    "Решим характеристическое уравнение и найдем собственные значения линейного оператора:\n",
    "\n",
    "$\\begin{vmatrix}\n",
    "-1-\\lambda & 0\\\\ \n",
    "0 & -1-\\lambda\n",
    "\\end{vmatrix} = 0$\n",
    "\n",
    "$(-1-\\lambda)(-1-\\lambda)-0\\cdot0=0$\n",
    "$(1+\\lambda)^{2}=0$\n",
    "\n",
    "$\\lambda=-1$\n",
    "\n",
    "Теперь найдем собственные векторы вида $\\begin{pmatrix}\n",
    "x_{1}\\\\ \n",
    "x_{2}\n",
    "\\end{pmatrix}$, подставив полученное собственное значение в выражение $\\textbf{A}x=\\lambda x$:\n",
    "\n",
    "$\\begin{pmatrix}\n",
    "-1 & 0\\\\ \n",
    "0 & -1\n",
    "\\end{pmatrix}\n",
    "\\begin{pmatrix}\n",
    "x_{1}\\\\ \n",
    "x_{2}\n",
    "\\end{pmatrix}=\n",
    "\\lambda\n",
    "\\begin{pmatrix}\n",
    "x_{1}\\\\ \n",
    "x_{2}\n",
    "\\end{pmatrix}\n",
    "$\n",
    "\n",
    "Получим\n",
    "$\\begin{cases}\n",
    "-x_{1}+0\\cdot x_{2}= -x_{1} \\\\\n",
    "0\\cdot x_{1}-x_{2}= -x_{2}\n",
    "\\end{cases}$\n",
    "\n",
    "Перенеся все в левую часть, получим $\\begin{cases}\n",
    "-x_{1} = -x_{1} \\\\\n",
    "-x_{2} = -x_{2}\n",
    "\\end{cases}$\n",
    "следовательно любое $x_{1}, x_{2}$ является решением."
   ]
  },
  {
   "cell_type": "markdown",
   "metadata": {},
   "source": [
    "**Задание 3**. Пусть линейный оператор задан матрицей\n",
    "$A=\\begin{pmatrix}\n",
    "1 & 1\\\\ \n",
    "-1 & 3\n",
    "\\end{pmatrix}.$\n",
    "\n",
    "Установить, является ли вектор $x=(1,1)$ собственным вектором этого линейного оператора."
   ]
  },
  {
   "cell_type": "code",
   "execution_count": 3,
   "metadata": {},
   "outputs": [
    {
     "name": "stdout",
     "output_type": "stream",
     "text": [
      "Собственные числа: [2.00000002 1.99999998]\n"
     ]
    }
   ],
   "source": [
    "a = np.array([[1, 1], [-1, 3]])\n",
    "w, v = np.linalg.eig(a)\n",
    "print(f'Собственные числа: {w}')"
   ]
  },
  {
   "cell_type": "markdown",
   "metadata": {},
   "source": [
    "Получим\n",
    "\n",
    "$\\begin{cases}\n",
    "x_{1}+x_{2}= 2x_{1} \\\\\n",
    "-x_{1}+3x_{2}= 2x_{2}\n",
    "\\end{cases}$\n",
    "\n",
    "$\\begin{cases}\n",
    "x_{1} = x_{2} \\\\\n",
    "x_{1} = x_{2}\n",
    "\\end{cases}$\n",
    "\n",
    "следовательно любое $x_{1}=x_{2}$ является решением системы уравнений и значит вектор (1,1) является собственным."
   ]
  },
  {
   "cell_type": "markdown",
   "metadata": {},
   "source": [
    "**Задание 4**. Пусть линейный оператор задан матрицей\n",
    "$A=\\begin{pmatrix}\n",
    "0 & 3 & 0\\\\ \n",
    "3 & 0 & 0\\\\\n",
    "0 & 0 & 3\n",
    "\\end{pmatrix}.$\n",
    "\n",
    "Установить, является ли вектор $x=(3, -3, -4)$ собственным вектором этого линейного оператора."
   ]
  },
  {
   "cell_type": "markdown",
   "metadata": {},
   "source": [
    "**Решение**. Пусть вектор $x$ является собственным вектором заданного линейного оператора, тогда должно существовать некоторое вещественное число $\\lambda$, при котором \n",
    "\n",
    "$\\begin{pmatrix}\n",
    "0 & 3 & 0\\\\ \n",
    "3 & 0 & 0\\\\\n",
    "0 & 0 & 3\n",
    "\\end{pmatrix}\n",
    "\\begin{pmatrix}\n",
    "3\\\\ \n",
    "-3\\\\\n",
    "-4\n",
    "\\end{pmatrix}=\n",
    "\\lambda\n",
    "\\begin{pmatrix}\n",
    "3\\\\ \n",
    "-3\\\\\n",
    "-4\n",
    "\\end{pmatrix}$\n",
    "\n",
    "Из этого будет следовать, что \n",
    "$\\begin{cases}\n",
    "-9=3\\cdot\\lambda \\\\ \n",
    "9 = -3\\cdot \\lambda \\\\\n",
    "-12 = -4\\cdot \\lambda \\\\\n",
    "\\end{cases}$\n",
    "система решения не имеет значит вектор не является собственным."
   ]
  },
  {
   "cell_type": "code",
   "execution_count": null,
   "metadata": {},
   "outputs": [],
   "source": []
  }
 ],
 "metadata": {
  "kernelspec": {
   "display_name": "Python 3",
   "language": "python",
   "name": "python3"
  },
  "language_info": {
   "codemirror_mode": {
    "name": "ipython",
    "version": 3
   },
   "file_extension": ".py",
   "mimetype": "text/x-python",
   "name": "python",
   "nbconvert_exporter": "python",
   "pygments_lexer": "ipython3",
   "version": "3.8.5"
  }
 },
 "nbformat": 4,
 "nbformat_minor": 4
}
