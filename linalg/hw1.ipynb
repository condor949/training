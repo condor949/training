{
 "cells": [
  {
   "cell_type": "code",
   "execution_count": 14,
   "id": "wired-poultry",
   "metadata": {},
   "outputs": [],
   "source": [
    "import numpy as np\n",
    "from numpy.linalg import norm\n",
    "# import matplotlib.pyplot as plt\n",
    "# from IPython.display import display, Math, Latex\n",
    "# import seaborn as sns\n",
    "# %matplotlib inline"
   ]
  },
  {
   "cell_type": "markdown",
   "id": "bearing-omaha",
   "metadata": {},
   "source": [
    "__Первая часть. Задание 1__\n",
    "\n",
    "Чтобы исследовать на сходимость необходимо определить выражается ли хотя бы один из векторов через другой(-ие). $f_{4}(x) = x - e^{x} = x + 1 - 1 - e^{x} = (x + 1) - 1 - e^{x} = f_{3}(x) - f_{2}(x) - f_{1}(x)$"
   ]
  },
  {
   "cell_type": "markdown",
   "id": "coated-champagne",
   "metadata": {},
   "source": [
    "__Задание 2__\n",
    "\n",
    "Чтобы исследовать на сходимость необходимо определить выражается ли хотя бы один из векторов через другой(-ие). $f_{4}(x) = (x - 1)^{2} = x^{2} - 2x + 1 =  f_{3}(x) - 2f_{2}(x) + \\frac{1}{2}f_{1}(x)$"
   ]
  },
  {
   "cell_type": "markdown",
   "id": "natural-welcome",
   "metadata": {},
   "source": [
    "__Задание 3__\n",
    "\n",
    "Для того чтобы найти координаты вектора в определенном базисе нужно найти коэфециенты при векторах базиса.\n",
    "$\\begin{pmatrix}\n",
    "    2\\\\\n",
    "    3\\\\\n",
    "    5\n",
    "\\end{pmatrix}  = k_{1}\\begin{pmatrix}\n",
    "    0\\\\\n",
    "    0\\\\\n",
    "    10\n",
    "\\end{pmatrix} + k_{2}\\begin{pmatrix}\n",
    "    2\\\\\n",
    "    0\\\\\n",
    "    0\n",
    "\\end{pmatrix} + k_{3}\\begin{pmatrix}\n",
    "    0\\\\\n",
    "    1\\\\\n",
    "    0\n",
    "\\end{pmatrix}$\n",
    "\n",
    "$k_{1} = \\frac{1}{2} \\\\\n",
    "k_{2} = 1 \\\\\n",
    "k_{3} = 3$\n",
    "\n",
    "$ (\\frac{1}{2}, 1, 3)$"
   ]
  },
  {
   "cell_type": "markdown",
   "id": "selective-puzzle",
   "metadata": {},
   "source": [
    "__Задание 4__ \n",
    "\n",
    "$3x^{2}-2x+2\\in\\mathbb{R}^{3}[x]$\n",
    "\n",
    "a) $e_{1} = 1 \\\\e_{2} = x \\\\e_{3} = x^{2}\\\\3e_{3} - 2e_{2} + \\frac{1}{2}e_{1}\\\\(\\frac{1}{2}, -2, 3)$\n",
    "\n",
    "b) $e_{1} = x^{2} \\\\e_{2} = x - 1 \\\\e_{3} = 1\\\\3 e_{1} - 2e_{2} + 0e_{3}\\\\(3, -2, 0)$"
   ]
  },
  {
   "cell_type": "markdown",
   "id": "musical-knowing",
   "metadata": {},
   "source": [
    "__Вторая часть. Задание 1__\n",
    "\n",
    "Найти скалярное произведение векторов $x, y \\in \\mathbb{R}$:<br>\n",
    "а) $x=(0,-3, 6),~y=(-4, 7, 9);$<br>\n",
    "б) $x=(7, -4, 0, 1),~y=(-3, 1, 11, 2).$"
   ]
  },
  {
   "cell_type": "code",
   "execution_count": 11,
   "id": "mighty-fighter",
   "metadata": {},
   "outputs": [
    {
     "name": "stdout",
     "output_type": "stream",
     "text": [
      "Скалярное произведение x и y:\n",
      "33\n",
      "Скалярное произведение x и y:\n",
      "-23\n"
     ]
    }
   ],
   "source": [
    "x = np.array([0, -3, 6])\n",
    "y = np.array([-4, 7, 9])\n",
    "print(f'Скалярное произведение x и y:\\n{x @ y}')\n",
    "x = np.array([7, -4, 0, 1])\n",
    "y = np.array([-3, 1, 11, 2])\n",
    "print(f'Скалярное произведение x и y:\\n{x @ y}')"
   ]
  },
  {
   "cell_type": "markdown",
   "id": "appointed-ballet",
   "metadata": {},
   "source": [
    "__Задание 2__ \n",
    "\n",
    "Найти нормы векторов $(4, 2, 4)$ и $(12, 3, 4)$ и угол между ними."
   ]
  },
  {
   "cell_type": "code",
   "execution_count": 16,
   "id": "religious-retrieval",
   "metadata": {},
   "outputs": [
    {
     "name": "stdout",
     "output_type": "stream",
     "text": [
      "Норма вектора a:\n",
      "6.0\n",
      "Норма вектора b:\n",
      "13.0\n",
      "Косинус угла между векторами a и b:\n",
      "0.8974358974358974\n"
     ]
    }
   ],
   "source": [
    "a = np.array([4, 2, 4])\n",
    "b = np.array([12, 3, 4])\n",
    "\n",
    "print(f'Норма вектора a:\\n{norm(a)}')\n",
    "print(f'Норма вектора b:\\n{norm(b)}')\n",
    "print(f'Косинус угла между векторами a и b:\\n{np.dot(a, b) / norm(a) / norm(b)}')"
   ]
  },
  {
   "cell_type": "code",
   "execution_count": null,
   "id": "first-requirement",
   "metadata": {},
   "outputs": [],
   "source": []
  }
 ],
 "metadata": {
  "kernelspec": {
   "display_name": "Python 3",
   "language": "python",
   "name": "python3"
  },
  "language_info": {
   "codemirror_mode": {
    "name": "ipython",
    "version": 3
   },
   "file_extension": ".py",
   "mimetype": "text/x-python",
   "name": "python",
   "nbconvert_exporter": "python",
   "pygments_lexer": "ipython3",
   "version": "3.8.5"
  }
 },
 "nbformat": 4,
 "nbformat_minor": 5
}
