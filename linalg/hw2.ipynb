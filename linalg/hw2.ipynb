{
 "cells": [
  {
   "cell_type": "code",
   "execution_count": 2,
   "id": "chicken-trance",
   "metadata": {},
   "outputs": [],
   "source": [
    "import numpy as np\n",
    "import matplotlib.pyplot as plt\n",
    "from IPython.display import display, Math, Latex\n",
    "import seaborn as sns\n",
    "%matplotlib inline"
   ]
  },
  {
   "cell_type": "markdown",
   "id": "naked-steam",
   "metadata": {},
   "source": [
    "__Задание 1__\n",
    "\n",
    "Чтобы исследовать на сходимость необходимо определить выражается ли хотя бы один из векторов через другой(-ие). \n",
    "\n",
    "a) $A  = \\begin{pmatrix}\n",
    "a_{11} & a_{12} \\\\ \n",
    "a_{21} & a_{22} \\\\  \n",
    "a_{31} & a_{32} \\\\ \n",
    "a_{41} & a_{42} \\\\ \n",
    "\\end{pmatrix} B  = \\begin{pmatrix}\n",
    "b_{11} & b_{12} \\\\ \n",
    "b_{21} & b_{22} \\\\  \n",
    "b_{31} & b_{32} \\\\ \n",
    "b_{41} & b_{42} \\\\ \n",
    "\\end{pmatrix}, $ AB и BA не существует, согласно правилу __необходимо, чтобы число столбцов матрицы первого множителя было равно числу строк матрицы второго множителя.__\n",
    "\n",
    "б) $A  = \\begin{pmatrix}\n",
    "a_{11} & a_{12} & a_{13} & a_{14} & a_{15}\\\\ \n",
    "a_{21} & a_{22} & a_{23} & a_{24} & a_{25}\\\\ \n",
    "\\end{pmatrix} B  = \\begin{pmatrix}\n",
    "b_{11} & b_{12} & b_{13} \\\\ \n",
    "b_{21} & b_{22} & b_{23}\\\\  \n",
    "b_{31} & b_{32} & b_{33}\\\\ \n",
    "b_{41} & b_{42} & b_{43}\\\\ \n",
    "b_{51} & b_{52} & b_{53}\\\\ \n",
    "\\end{pmatrix}, $ BA не существует, согласно правилу __необходимо, чтобы число столбцов матрицы первого множителя было равно числу строк матрицы второго множителя.__ Но произведение AB существует и равно:\n",
    "\n",
    "$AB  = \\begin{pmatrix}\n",
    "a_{11}*b_{11} + a_{12}*b_{21} + a_{13}*b_{31} + a_{14}*b_{41} + a_{15}*b_{51} & a_{11}*b_{12} + a_{12}*b_{22} + a_{13}*b_{32} + a_{14}*b_{42} + a_{15}*b_{52} & a_{11}*b_{13} + a_{12}*b_{23} + a_{13}*b_{33} + a_{14}*b_{43} + a_{15}*b_{53} \\\\ \n",
    "a_{21}*b_{11} + a_{22}*b_{21} + a_{23}*b_{31} + a_{24}*b_{41} + a_{25}*b_{51} & a_{21}*b_{12} + a_{22}*b_{22} + a_{23}*b_{32} + a_{24}*b_{42} + a_{25}*b_{52} & a_{21}*b_{13} + a_{22}*b_{23} + a_{23}*b_{33} + a_{24}*b_{43} + a_{25}*b_{53}\\\\ \n",
    "\\end{pmatrix} $\n",
    "\n",
    "размерность матрицы AB 2х3\n",
    "\n",
    "в) $A  = \\begin{pmatrix}\n",
    "a_{11} & a_{12} & a_{13}\\\\ \n",
    "a_{21} & a_{22} & a_{23}\\\\\n",
    "a_{31} & a_{32} & a_{33}\\\\ \n",
    "a_{41} & a_{42} & a_{43}\\\\ \n",
    "a_{51} & a_{52} & a_{53}\\\\ \n",
    "a_{61} & a_{62} & a_{63}\\\\ \n",
    "a_{71} & a_{72} & a_{73}\\\\ \n",
    "a_{81} & a_{82} & a_{83}\\\\ \n",
    "\\end{pmatrix} B  = \\begin{pmatrix}\n",
    "b_{11} & b_{12} & b_{13} & b_{14} & b_{15} & b_{16} & b_{17} & b_{18}\\\\ \n",
    "b_{21} & b_{22} & b_{23} & b_{24} & b_{25} & b_{26} & b_{27} & b_{28}\\\\ \n",
    "b_{31} & b_{32} & b_{33} & b_{34} & b_{35} & b_{36} & b_{37} & b_{38}\\\\ \n",
    "\\end{pmatrix} $ Оба произведения существуют, размерности AB 8x8 и BA 3x3.\n",
    "\n",
    "г) Оба произведения существуют, размерности АВ и BA 4х4"
   ]
  },
  {
   "cell_type": "markdown",
   "id": "palestinian-hobby",
   "metadata": {},
   "source": [
    "__Задание 2__\n",
    "\n",
    "Найдем сумму матриц $A=\\begin{pmatrix}\n",
    "1 & -2\\\\ \n",
    "3 & 0\n",
    "\\end{pmatrix}$ и $B=\\begin{pmatrix}\n",
    "4 & -1\\\\ \n",
    "0 & 5\n",
    "\\end{pmatrix}$\n",
    "\n",
    "$A+B=\\begin{pmatrix}\n",
    "1 & -2\\\\ \n",
    "3 & 0\n",
    "\\end{pmatrix}+\n",
    "\\begin{pmatrix}\n",
    "4 & -1\\\\ \n",
    "0 & 5\n",
    "\\end{pmatrix}=\n",
    "\\begin{pmatrix}\n",
    "1 + 4 & -2 -1\\\\ \n",
    "3 + 0 & 0 + 5\n",
    "\\end{pmatrix}= \n",
    "\\begin{pmatrix}\n",
    "5 & -3\\\\ \n",
    "3 &  5\n",
    "\\end{pmatrix}$\n",
    "\n",
    "Найдем произведение матриц A и B:\n",
    "\n",
    "$AB=\\begin{pmatrix}\n",
    "1 & -2\\\\ \n",
    "3 & 0\n",
    "\\end{pmatrix}\n",
    "* \n",
    "\\begin{pmatrix}\n",
    "4 & -1\\\\ \n",
    "0 & 5\n",
    "\\end{pmatrix}=\n",
    "\\begin{pmatrix}\n",
    "1* 4 + -2* 0 & 1* (-1) -2* 5 \\\\ \n",
    "3* 4 + 0* 0 & 3* (-1) + 0* 5\n",
    "\\end{pmatrix} \n",
    "=\\begin{pmatrix}\n",
    "4 & -11\\\\ \n",
    "12 & -3\n",
    "\\end{pmatrix}$"
   ]
  },
  {
   "cell_type": "code",
   "execution_count": 6,
   "id": "grand-receipt",
   "metadata": {},
   "outputs": [
    {
     "name": "stdout",
     "output_type": "stream",
     "text": [
      "Матрица A\n",
      "[[ 1 -2]\n",
      " [ 3  0]]\n",
      "Матрица B\n",
      "[[ 4 -1]\n",
      " [ 0  5]]\n",
      "Матрица A + B\n",
      "[[ 5 -3]\n",
      " [ 3  5]]\n",
      "Матрица AB\n",
      "[[  4 -11]\n",
      " [ 12  -3]]\n"
     ]
    }
   ],
   "source": [
    "A = np.array([[1, -2], [3, 0]])\n",
    "B = np.array([[4, -1], [0, 5]])\n",
    "print(f'Матрица A\\n{A}')\n",
    "print(f'Матрица B\\n{B}')\n",
    "print(f'Матрица A + B\\n{A + B}')\n",
    "print(f'Матрица AB\\n{np.dot(A, B)}')"
   ]
  },
  {
   "cell_type": "markdown",
   "id": "ranging-vienna",
   "metadata": {},
   "source": [
    "__Задание 3__\n",
    "\n",
    "Вычислить линейную комбинацию $3A-2B+4C$ для матриц \n",
    "$A=\\begin{pmatrix}\n",
    "1 & 7\\\\ \n",
    "3 & -6\n",
    "\\end{pmatrix}$, $B=\\begin{pmatrix}\n",
    "0 & 5\\\\ \n",
    "2 & -1\n",
    "\\end{pmatrix}$, $C=\\begin{pmatrix}\n",
    "2 & -4\\\\ \n",
    "1 & 1\n",
    "\\end{pmatrix}.$\n",
    "\n",
    "$3A-2B+4C=\n",
    "3\\begin{pmatrix}\n",
    "1 & 7\\\\ \n",
    "3 & -6\n",
    "\\end{pmatrix}-\n",
    "2\\begin{pmatrix}\n",
    "0 & 5\\\\ \n",
    "2 & -1\n",
    "\\end{pmatrix}+\n",
    "4\\begin{pmatrix}\n",
    "2 & -4\\\\ \n",
    "1 & 1\n",
    "\\end{pmatrix}=\n",
    "\\begin{pmatrix}\n",
    "3 & 21\\\\ \n",
    "9 & -18\\\\\n",
    "\\end{pmatrix}+\n",
    "\\begin{pmatrix}\n",
    "0 & -10\\\\ \n",
    "-4 & 2\\\\\n",
    "\\end{pmatrix}+\n",
    "\\begin{pmatrix}\n",
    "8 & -16\\\\ \n",
    "4 & 4\\\\\n",
    "\\end{pmatrix}=\n",
    "\\begin{pmatrix}\n",
    "3+0+8 & 21-10-16\\\\ \n",
    "9-4+4 & -18+2+4\\\\\n",
    "\\end{pmatrix}=\n",
    "\\begin{pmatrix}\n",
    "11 & -5\\\\ \n",
    "9 & -12\n",
    "\\end{pmatrix}$"
   ]
  },
  {
   "cell_type": "code",
   "execution_count": 5,
   "id": "potential-nowhere",
   "metadata": {},
   "outputs": [
    {
     "name": "stdout",
     "output_type": "stream",
     "text": [
      "Матрица 3A−2B+4C\n",
      "[[ 11  -5]\n",
      " [  9 -12]]\n"
     ]
    }
   ],
   "source": [
    "A = np.array([[1, 7], [3, -6]])\n",
    "B = np.array([[0, 5], [2, -1]])\n",
    "C = np.array([[2, -4], [1, 1]])\n",
    "print(f'Матрица 3A−2B+4C\\n{3 * A - 2 * B + 4 * C}')"
   ]
  },
  {
   "cell_type": "markdown",
   "id": "economic-haven",
   "metadata": {},
   "source": [
    "__Задание 4__ \n",
    "\n",
    "$A=\\begin{pmatrix}\n",
    "4 & 1\\\\ \n",
    "5 & -2\\\\ \n",
    "2 & 3\n",
    "\\end{pmatrix}$\n",
    "\n",
    "Вычислить $AA^{T}$ и $A^{T}A$."
   ]
  },
  {
   "cell_type": "code",
   "execution_count": 7,
   "id": "simple-breed",
   "metadata": {},
   "outputs": [
    {
     "name": "stdout",
     "output_type": "stream",
     "text": [
      "Матрица:\n",
      "[[ 4  1]\n",
      " [ 5 -2]\n",
      " [ 2  3]]\n",
      "Транспонированная матрица:\n",
      "[[ 4  5  2]\n",
      " [ 1 -2  3]]\n",
      "Матрица A*At\n",
      "[[17 18 11]\n",
      " [18 29  4]\n",
      " [11  4 13]]\n",
      "Матрица At*A\n",
      "[[45  0]\n",
      " [ 0 14]]\n"
     ]
    }
   ],
   "source": [
    "A = np.array([[4, 1], [5, -2], [2, 3]])\n",
    "print(f'Матрица:\\n{A}')\n",
    "print(f'Транспонированная матрица:\\n{A.T}')\n",
    "print(f'Матрица A*At\\n{np.dot(A,A.T)}')\n",
    "print(f'Матрица At*A\\n{np.dot(A.T,A)}')"
   ]
  },
  {
   "cell_type": "code",
   "execution_count": null,
   "id": "dried-jacket",
   "metadata": {},
   "outputs": [],
   "source": []
  }
 ],
 "metadata": {
  "kernelspec": {
   "display_name": "Python 3",
   "language": "python",
   "name": "python3"
  },
  "language_info": {
   "codemirror_mode": {
    "name": "ipython",
    "version": 3
   },
   "file_extension": ".py",
   "mimetype": "text/x-python",
   "name": "python",
   "nbconvert_exporter": "python",
   "pygments_lexer": "ipython3",
   "version": "3.8.5"
  }
 },
 "nbformat": 4,
 "nbformat_minor": 5
}
