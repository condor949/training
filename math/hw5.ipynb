{
 "cells": [
  {
   "cell_type": "code",
   "execution_count": 2,
   "id": "pressing-manor",
   "metadata": {},
   "outputs": [
    {
     "name": "stdout",
     "output_type": "stream",
     "text": [
      "Задание 1\n",
      "3\n",
      "Число выпадений:  279 \tЧисло попыток:  10000\n",
      "Вероятность выпадения любого числа на рулетке:  0.02702702702702703\n",
      "Вероятность выпадения любого числа при 10000:  0.0279\n"
     ]
    }
   ],
   "source": [
    "import numpy as np\n",
    "import matplotlib.pyplot as plt\n",
    "from IPython.display import display, Math, Latex\n",
    "import seaborn as sns\n",
    "%matplotlib inline\n",
    "\n",
    "print('Задание 1')\n",
    "a = int(input())\n",
    "k = 0\n",
    "N = 0\n",
    "for i in range(1, 10001):\n",
    "    roulette = int(np.random.uniform(0, 36))\n",
    "#     print(roulette)\n",
    "    if roulette==a:\n",
    "        k=k+1\n",
    "    N=i\n",
    "print(\"Число выпадений: \", k, \"\\tЧисло попыток: \", N)\n",
    "print(\"Вероятность выпадения любого числа на рулетке: \", 1/37)\n",
    "print(f\"Вероятность выпадения любого числа при {N}: \", k/N)"
   ]
  },
  {
   "cell_type": "code",
   "execution_count": 51,
   "id": "applicable-sugar",
   "metadata": {},
   "outputs": [
    {
     "name": "stdout",
     "output_type": "stream",
     "text": [
      "Задание 2, a\n",
      "Вероятность того что на рулетке за как минимум три раза подряд выпадет зеро\n",
      "Вероятность одного выпадения\n"
     ]
    },
    {
     "data": {
      "text/latex": [
       "$\\displaystyle P_{zero} = \\frac{1}{37}$"
      ],
      "text/plain": [
       "<IPython.core.display.Math object>"
      ]
     },
     "metadata": {},
     "output_type": "display_data"
    },
    {
     "name": "stdout",
     "output_type": "stream",
     "text": [
      "События независимы, значит\n"
     ]
    },
    {
     "data": {
      "text/latex": [
       "$\\displaystyle P_{zero}(A_1 A_2 A_3) = P(A_1) * P(A_2) * P(A_3) = \n",
       "  \\frac{1}{37} * \\frac{1}{37} * \\frac{1}{37} = 0.08$"
      ],
      "text/plain": [
       "<IPython.core.display.Math object>"
      ]
     },
     "metadata": {},
     "output_type": "display_data"
    }
   ],
   "source": [
    "print('Задание 2, a')\n",
    "print('Вероятность того что на рулетке за как минимум три раза подряд выпадет зеро')\n",
    "print('Вероятность одного выпадения')\n",
    "display(Math(r\"\"\"P_{zero} = \\frac{1}{37}\"\"\"))\n",
    "print('События независимы, значит')\n",
    "Pzero = (1/37)*3\n",
    "display(Math(r\"\"\"P_{zero}(A_1 A_2 A_3) = P(A_1) * P(A_2) * P(A_3) = \n",
    "  \\frac{1}{37} * \\frac{1}{37} * \\frac{1}{37} = \"\"\" + str(round(Pzero, 2))))"
   ]
  },
  {
   "cell_type": "code",
   "execution_count": 6,
   "id": "official-shame",
   "metadata": {},
   "outputs": [
    {
     "name": "stdout",
     "output_type": "stream",
     "text": [
      "Задание 2, б\n",
      "[48800 48871 48751 48746 49860 49779 50833 50355 50183 48160]\n"
     ]
    },
    {
     "data": {
      "text/plain": [
       "<seaborn.axisgrid.FacetGrid at 0x7fdbfc612460>"
      ]
     },
     "execution_count": 6,
     "metadata": {},
     "output_type": "execute_result"
    },
    {
     "data": {
      "image/png": "[encoded data removed]",
      "text/plain": [
       "<Figure size 360x360 with 1 Axes>"
      ]
     },
     "metadata": {
      "needs_background": "light"
     },
     "output_type": "display_data"
    }
   ],
   "source": [
    "print('Задание 2, б')\n",
    "arr = np.random.randint(0, 100, (1000, 10))\n",
    "sum = [0 for _ in range(10)]\n",
    "for i in arr:\n",
    "    sum += i\n",
    "print(sum)\n",
    "x = np.random.rand(1000)\n",
    "# print(x)\n",
    "sns.displot(data = x,  color = 'blue', kde=True)"
   ]
  },
  {
   "cell_type": "code",
   "execution_count": null,
   "id": "spectacular-fellow",
   "metadata": {},
   "outputs": [],
   "source": [
    "print('Задание 3')\n"
   ]
  }
 ],
 "metadata": {
  "kernelspec": {
   "display_name": "Python 3",
   "language": "python",
   "name": "python3"
  },
  "language_info": {
   "codemirror_mode": {
    "name": "ipython",
    "version": 3
   },
   "file_extension": ".py",
   "mimetype": "text/x-python",
   "name": "python",
   "nbconvert_exporter": "python",
   "pygments_lexer": "ipython3",
   "version": "3.8.5"
  }
 },
 "nbformat": 4,
 "nbformat_minor": 5
}
