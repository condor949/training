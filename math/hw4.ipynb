{
 "cells": [
  {
   "cell_type": "code",
   "execution_count": 1,
   "id": "latter-bulgarian",
   "metadata": {},
   "outputs": [
    {
     "name": "stdout",
     "output_type": "stream",
     "text": [
      "Задание 1\n"
     ]
    },
    {
     "data": {
      "text/latex": [
       "$\\displaystyle \\frac{\\sin{x}}{x} = 0\\\\\n",
       "x = \\pi n, n \\neq 0 , n \\in Z$"
      ],
      "text/plain": [
       "<IPython.core.display.Math object>"
      ]
     },
     "metadata": {},
     "output_type": "display_data"
    }
   ],
   "source": [
    "import numpy as np\n",
    "import matplotlib.pyplot as plt\n",
    "from IPython.display import display, Math, Latex\n",
    "%matplotlib inline\n",
    "\n",
    "print('Задание 1')\n",
    "display(Math(r\"\"\"\\frac{\\sin{x}}{x} = 0\\\\\n",
    "x = \\pi n, n \\neq 0 , n \\in Z\"\"\"))"
   ]
  },
  {
   "cell_type": "code",
   "execution_count": 2,
   "id": "rapid-direction",
   "metadata": {},
   "outputs": [
    {
     "name": "stdout",
     "output_type": "stream",
     "text": [
      "Задание 2\n"
     ]
    },
    {
     "data": {
      "text/latex": [
       "$\\displaystyle y=k_1 x+b_1\\\\ y=k_2 x+b_2\\\\ y=k_3 x+b_3$"
      ],
      "text/plain": [
       "<IPython.core.display.Math object>"
      ]
     },
     "metadata": {},
     "output_type": "display_data"
    },
    {
     "name": "stdout",
     "output_type": "stream",
     "text": [
      "Запишем в общем виде эти уравнения\n"
     ]
    },
    {
     "data": {
      "text/latex": [
       "$\\displaystyle Ax+By+C=0\\\\k_1 x-1\\cdot y+b_1=0\\\\ k_2 x-1\\cdot y+b_2=0\\\\ k_3 x-1\\cdot y+b_3=0$"
      ],
      "text/plain": [
       "<IPython.core.display.Math object>"
      ]
     },
     "metadata": {},
     "output_type": "display_data"
    },
    {
     "name": "stdout",
     "output_type": "stream",
     "text": [
      "Матричный вид:\n"
     ]
    },
    {
     "data": {
      "text/latex": [
       "$\\displaystyle \\Delta = \\begin{pmatrix}\n",
       "  k_1 & -1 & b_1 \\\\\n",
       "  k_2 & -1 & b_2 \\\\\n",
       "  k_3 & -1 & b_3 \n",
       " \\end{pmatrix}$"
      ],
      "text/plain": [
       "<IPython.core.display.Math object>"
      ]
     },
     "metadata": {},
     "output_type": "display_data"
    },
    {
     "name": "stdout",
     "output_type": "stream",
     "text": [
      "тогда\n"
     ]
    },
    {
     "data": {
      "text/latex": [
       "$\\displaystyle \\delta_1 = \\begin{vmatrix}\n",
       "  k_2 & -1 \\\\\n",
       "  k_3 & -1\\end{vmatrix}$"
      ],
      "text/plain": [
       "<IPython.core.display.Math object>"
      ]
     },
     "metadata": {},
     "output_type": "display_data"
    },
    {
     "data": {
      "text/latex": [
       "$\\displaystyle \\delta_2 = \\begin{vmatrix}\n",
       "  k_1 & -1 \\\\\n",
       "  k_3 & -1\\end{vmatrix}$"
      ],
      "text/plain": [
       "<IPython.core.display.Math object>"
      ]
     },
     "metadata": {},
     "output_type": "display_data"
    },
    {
     "data": {
      "text/latex": [
       "$\\displaystyle \\delta_3 = \\begin{vmatrix}\n",
       "  k_1 & -1 \\\\\n",
       "  k_2 & -1\\end{vmatrix}$"
      ],
      "text/plain": [
       "<IPython.core.display.Math object>"
      ]
     },
     "metadata": {},
     "output_type": "display_data"
    },
    {
     "name": "stdout",
     "output_type": "stream",
     "text": [
      "На основании предыдущего получаем следующие необходимые и достаточные признаки взаимного расположения трех данных прямых. Если:\n"
     ]
    },
    {
     "data": {
      "text/latex": [
       "$\\displaystyle \\Delta = 0, \\delta_1 \\neq 0, \\delta_3 \\neq 0, \\delta_3 \\neq 0,$"
      ],
      "text/plain": [
       "<IPython.core.display.Math object>"
      ]
     },
     "metadata": {},
     "output_type": "display_data"
    },
    {
     "name": "stdout",
     "output_type": "stream",
     "text": [
      "то три данные прямые попарно различны и проходят через одну точку.\n"
     ]
    },
    {
     "data": {
      "text/latex": [
       "$\\displaystyle \\Delta = \\begin{pmatrix}\n",
       "  k_1 & -1 & b_1 \\\\\n",
       "  k_2 & -1 & b_2 \\\\\n",
       "  k_3 & -1 & b_3 \n",
       " \\end{pmatrix} = -k_1 b_3 -k_2 b_1 -k_3 b_2 +k_3 b_1 +k_2 b_1 +k_3 b_2 = 0$"
      ],
      "text/plain": [
       "<IPython.core.display.Math object>"
      ]
     },
     "metadata": {},
     "output_type": "display_data"
    },
    {
     "data": {
      "text/latex": [
       "$\\displaystyle \\delta_1 = \\begin{vmatrix}\n",
       "  k_2 & -1 \\\\\n",
       "  k_3 & -1\\end{vmatrix} = -k_2 - k_3 \\neq 0\\\\-k_2 \\neq k_3$"
      ],
      "text/plain": [
       "<IPython.core.display.Math object>"
      ]
     },
     "metadata": {},
     "output_type": "display_data"
    },
    {
     "data": {
      "text/latex": [
       "$\\displaystyle \\delta_2 = \\begin{vmatrix}\n",
       "  k_1 & -1 \\\\\n",
       "  k_3 & -1\\end{vmatrix} = -k_1 - k_3 \\neq 0\\\\-k_1 \\neq k_3$"
      ],
      "text/plain": [
       "<IPython.core.display.Math object>"
      ]
     },
     "metadata": {},
     "output_type": "display_data"
    },
    {
     "data": {
      "text/latex": [
       "$\\displaystyle \\delta_3 = \\begin{vmatrix}\n",
       "  k_1 & -1 \\\\\n",
       "  k_2 & -1\\end{vmatrix} = -k_1 - k_2 \\neq 0\\\\-k_1 \\neq k_2$"
      ],
      "text/plain": [
       "<IPython.core.display.Math object>"
      ]
     },
     "metadata": {},
     "output_type": "display_data"
    }
   ],
   "source": [
    "print('Задание 2')\n",
    "display(Math(r\"\"\"y=k_1 x+b_1\\\\ y=k_2 x+b_2\\\\ y=k_3 x+b_3\"\"\"))\n",
    "print('Запишем в общем виде эти уравнения')\n",
    "display(Math(r\"\"\"Ax+By+C=0\\\\k_1 x-1\\cdot y+b_1=0\\\\ k_2 x-1\\cdot y+b_2=0\\\\ k_3 x-1\\cdot y+b_3=0\"\"\"))\n",
    "print('Матричный вид:')\n",
    "display(Math(r\"\"\"\\Delta = \\begin{pmatrix}\n",
    "  k_1 & -1 & b_1 \\\\\n",
    "  k_2 & -1 & b_2 \\\\\n",
    "  k_3 & -1 & b_3 \n",
    " \\end{pmatrix}\"\"\"))\n",
    "print('тогда')\n",
    "display(Math(r\"\"\"\\delta_1 = \\begin{vmatrix}\n",
    "  k_2 & -1 \\\\\n",
    "  k_3 & -1\\end{vmatrix}\"\"\"))\n",
    "display(Math(r\"\"\"\\delta_2 = \\begin{vmatrix}\n",
    "  k_1 & -1 \\\\\n",
    "  k_3 & -1\\end{vmatrix}\"\"\"))\n",
    "display(Math(r\"\"\"\\delta_3 = \\begin{vmatrix}\n",
    "  k_1 & -1 \\\\\n",
    "  k_2 & -1\\end{vmatrix}\"\"\"))\n",
    "print(\"\"\"На основании предыдущего получаем следующие необходимые и достаточные признаки взаимного расположения трех данных прямых. Если:\"\"\")\n",
    "display(Math(r\"\"\"\\Delta = 0, \\delta_1 \\neq 0, \\delta_3 \\neq 0, \\delta_3 \\neq 0,\"\"\"))\n",
    "print(\"то три данные прямые попарно различны и проходят через одну точку.\")\n",
    "display(Math(r\"\"\"\\Delta = \\begin{pmatrix}\n",
    "  k_1 & -1 & b_1 \\\\\n",
    "  k_2 & -1 & b_2 \\\\\n",
    "  k_3 & -1 & b_3 \n",
    " \\end{pmatrix} = -k_1 b_3 -k_2 b_1 -k_3 b_2 +k_3 b_1 +k_2 b_1 +k_3 b_2 = 0\"\"\"))\n",
    "display(Math(r\"\"\"\\delta_1 = \\begin{vmatrix}\n",
    "  k_2 & -1 \\\\\n",
    "  k_3 & -1\\end{vmatrix} = -k_2 - k_3 \\neq 0\\\\-k_2 \\neq k_3\"\"\"))\n",
    "display(Math(r\"\"\"\\delta_2 = \\begin{vmatrix}\n",
    "  k_1 & -1 \\\\\n",
    "  k_3 & -1\\end{vmatrix} = -k_1 - k_3 \\neq 0\\\\-k_1 \\neq k_3\"\"\"))\n",
    "display(Math(r\"\"\"\\delta_3 = \\begin{vmatrix}\n",
    "  k_1 & -1 \\\\\n",
    "  k_2 & -1\\end{vmatrix} = -k_1 - k_2 \\neq 0\\\\-k_1 \\neq k_2\"\"\"))\n"
   ]
  },
  {
   "cell_type": "code",
   "execution_count": 3,
   "id": "stock-washer",
   "metadata": {},
   "outputs": [
    {
     "name": "stdout",
     "output_type": "stream",
     "text": [
      "Задание 17.6.4\n"
     ]
    },
    {
     "data": {
      "text/latex": [
       "$\\displaystyle x=-\\sqrt{3}\\\\ x=\\sqrt{2}$"
      ],
      "text/plain": [
       "<IPython.core.display.Math object>"
      ]
     },
     "metadata": {},
     "output_type": "display_data"
    },
    {
     "name": "stdout",
     "output_type": "stream",
     "text": [
      "Угол между двумя прямыми:\n"
     ]
    },
    {
     "data": {
      "text/latex": [
       "$\\displaystyle \\alpha = 0$"
      ],
      "text/plain": [
       "<IPython.core.display.Math object>"
      ]
     },
     "metadata": {},
     "output_type": "display_data"
    },
    {
     "data": {
      "image/png": "[encoded data removed]",
      "text/plain": [
       "<Figure size 432x288 with 1 Axes>"
      ]
     },
     "metadata": {
      "needs_background": "light"
     },
     "output_type": "display_data"
    }
   ],
   "source": [
    "print('Задание 17.6.4')\n",
    "display(Math(r\"\"\"x=-\\sqrt{3}\\\\ x=\\sqrt{2}\"\"\"))\n",
    "x=[np.sqrt(2) for _ in range(10)]\n",
    "y=[i for i in range(10)]\n",
    "plt.plot(x, y, marker='o')\n",
    "x=[-np.sqrt(3) for _ in range(10)]\n",
    "plt.plot(x, y, marker='o')\n",
    "print(\"Угол между двумя прямыми:\")\n",
    "display(Math(r\"\"\"\\alpha = 0\"\"\"))"
   ]
  },
  {
   "cell_type": "code",
   "execution_count": 4,
   "id": "vulnerable-deposit",
   "metadata": {},
   "outputs": [
    {
     "name": "stdout",
     "output_type": "stream",
     "text": [
      "Задание 17.6.5\n"
     ]
    },
    {
     "data": {
      "text/latex": [
       "$\\displaystyle y^2 -2x -2y -5 = 0\\\\\n",
       "(y^2 -2y +1) -2x -5 -1 = 0\\\\\n",
       "(y-1)^2 -2x -6 = 0\\\\\n",
       "(y-1)^2 = 2x+6\\\\\n",
       "(y-1)^2 = 2(x+3)$"
      ],
      "text/plain": [
       "<IPython.core.display.Math object>"
      ]
     },
     "metadata": {},
     "output_type": "display_data"
    },
    {
     "name": "stdout",
     "output_type": "stream",
     "text": [
      "Парабола\n"
     ]
    }
   ],
   "source": [
    "print('Задание 17.6.5')\n",
    "display(Math(r\"\"\"y^2 -2x -2y -5 = 0\\\\\n",
    "(y^2 -2y +1) -2x -5 -1 = 0\\\\\n",
    "(y-1)^2 -2x -6 = 0\\\\\n",
    "(y-1)^2 = 2x+6\\\\\n",
    "(y-1)^2 = 2(x+3)\"\"\"))\n",
    "print('Парабола')"
   ]
  },
  {
   "cell_type": "code",
   "execution_count": 5,
   "id": "numerical-billy",
   "metadata": {},
   "outputs": [
    {
     "name": "stdout",
     "output_type": "stream",
     "text": [
      "Задание 17.6.6\n"
     ]
    },
    {
     "data": {
      "text/latex": [
       "$\\displaystyle 3x^2 +5y^2 +12x -30y +42 = 0\\\\\n",
       "3(x^2 + 4x) +5(y^2 -6y) +42 = 0\\\\\n",
       "3(x+2)^2 +5(y-3)^2 = 15 |:15\\\\\n",
       "\\frac{(x+2)^2}{5} +\\frac{(y-3)^2}{3} = 1$"
      ],
      "text/plain": [
       "<IPython.core.display.Math object>"
      ]
     },
     "metadata": {},
     "output_type": "display_data"
    },
    {
     "name": "stdout",
     "output_type": "stream",
     "text": [
      "Эллипс\n"
     ]
    }
   ],
   "source": [
    "print('Задание 17.6.6')\n",
    "display(Math(r\"\"\"3x^2 +5y^2 +12x -30y +42 = 0\\\\\n",
    "3(x^2 + 4x) +5(y^2 -6y) +42 = 0\\\\\n",
    "3(x+2)^2 +5(y-3)^2 = 15 |:15\\\\\n",
    "\\frac{(x+2)^2}{5} +\\frac{(y-3)^2}{3} = 1\"\"\"))\n",
    "print('Эллипс')"
   ]
  },
  {
   "cell_type": "code",
   "execution_count": 6,
   "id": "seventh-saudi",
   "metadata": {},
   "outputs": [
    {
     "name": "stdout",
     "output_type": "stream",
     "text": [
      "Задание 17.6.7\n"
     ]
    },
    {
     "data": {
      "text/latex": [
       "$\\displaystyle 2x^2 -3y^2 -28x -42y -55 = 0\\\\\n",
       "2(x^2 -14x) +3(y^2 -14y) -55 = 0\\\\\n",
       "2(x^2 -14x +49) +3(y^2 -14y +49) -55 -49 -49= 0\\\\\n",
       "2(x-7)^2 -3(y+7)^2 = 6 |:6\\\\\n",
       "\\frac{(x-7)^2}{3} +\\frac{(y+7)^2}{2} = 1$"
      ],
      "text/plain": [
       "<IPython.core.display.Math object>"
      ]
     },
     "metadata": {},
     "output_type": "display_data"
    },
    {
     "name": "stdout",
     "output_type": "stream",
     "text": [
      "Гипербола\n"
     ]
    }
   ],
   "source": [
    "print('Задание 17.6.7')\n",
    "display(Math(r\"\"\"2x^2 -3y^2 -28x -42y -55 = 0\\\\\n",
    "2(x^2 -14x) +3(y^2 -14y) -55 = 0\\\\\n",
    "2(x^2 -14x +49) +3(y^2 -14y +49) -55 -49 -49= 0\\\\\n",
    "2(x-7)^2 -3(y+7)^2 = 6 |:6\\\\\n",
    "\\frac{(x-7)^2}{3} +\\frac{(y+7)^2}{2} = 1\"\"\"))\n",
    "print('Гипербола')"
   ]
  },
  {
   "cell_type": "code",
   "execution_count": 8,
   "id": "figured-bumper",
   "metadata": {},
   "outputs": [
    {
     "name": "stdout",
     "output_type": "stream",
     "text": [
      "Задание 17.6.8\n"
     ]
    },
    {
     "data": {
      "text/latex": [
       "$\\displaystyle 2x^2 -y^2 +6y -7 = 0\\\\\n",
       "2x^2 -(y^2 -6y+9) +2 = 0\\\\\n",
       "2x^2 -(y-3)^2 = -2\\\\\n",
       "\\frac{(y-7)^2}{2} +\\frac{x^2}{1} = 1$"
      ],
      "text/plain": [
       "<IPython.core.display.Math object>"
      ]
     },
     "metadata": {},
     "output_type": "display_data"
    },
    {
     "name": "stdout",
     "output_type": "stream",
     "text": [
      "Гипербола\n"
     ]
    }
   ],
   "source": [
    "print('Задание 17.6.8')\n",
    "display(Math(r\"\"\"2x^2 -y^2 +6y -7 = 0\\\\\n",
    "2x^2 -(y^2 -6y+9) +2 = 0\\\\\n",
    "2x^2 -(y-3)^2 = -2\\\\\n",
    "\\frac{(y-7)^2}{2} +\\frac{x^2}{1} = 1\"\"\"))\n",
    "print('Гипербола')"
   ]
  },
  {
   "cell_type": "code",
   "execution_count": null,
   "id": "vulnerable-thanks",
   "metadata": {},
   "outputs": [],
   "source": []
  }
 ],
 "metadata": {
  "kernelspec": {
   "display_name": "Python 3",
   "language": "python",
   "name": "python3"
  },
  "language_info": {
   "codemirror_mode": {
    "name": "ipython",
    "version": 3
   },
   "file_extension": ".py",
   "mimetype": "text/x-python",
   "name": "python",
   "nbconvert_exporter": "python",
   "pygments_lexer": "ipython3",
   "version": "3.8.5"
  }
 },
 "nbformat": 4,
 "nbformat_minor": 5
}
